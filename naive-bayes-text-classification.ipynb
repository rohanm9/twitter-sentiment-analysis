{
 "cells": [
  {
   "cell_type": "code",
   "execution_count": 1,
   "metadata": {},
   "outputs": [],
   "source": [
    "import re\n",
    "import pandas as pd \n",
    "import numpy as np \n",
    "import matplotlib.pyplot as plt \n",
    "import seaborn as sns\n",
    "import string\n",
    "import nltk\n",
    "import warnings \n",
    "warnings.filterwarnings(\"ignore\", category=DeprecationWarning)"
   ]
  },
  {
   "cell_type": "code",
   "execution_count": 16,
   "metadata": {},
   "outputs": [
    {
     "name": "stderr",
     "output_type": "stream",
     "text": [
      "[nltk_data] Downloading package punkt to\n",
      "[nltk_data]     /Users/abhinavraj/nltk_data...\n",
      "[nltk_data]   Unzipping tokenizers/punkt.zip.\n"
     ]
    },
    {
     "data": {
      "text/plain": [
       "True"
      ]
     },
     "execution_count": 16,
     "metadata": {},
     "output_type": "execute_result"
    }
   ],
   "source": [
    "import nltk\n",
    "nltk.download('punkt')"
   ]
  },
  {
   "cell_type": "code",
   "execution_count": 39,
   "metadata": {},
   "outputs": [],
   "source": [
    "import nltk\n",
    "from nltk.stem.lancaster import LancasterStemmer\n",
    "# word stemmer\n",
    "stemmer = LancasterStemmer()"
   ]
  },
  {
   "cell_type": "code",
   "execution_count": 27,
   "metadata": {},
   "outputs": [
    {
     "name": "stdout",
     "output_type": "stream",
     "text": [
      "know listenin habit earlier started freakin part\n"
     ]
    }
   ],
   "source": [
    "df = pd.read_csv('tokenized_tweet.csv')\n",
    "data = df.values.tolist()\n",
    "print(data[0][3])"
   ]
  },
  {
   "cell_type": "code",
   "execution_count": 23,
   "metadata": {},
   "outputs": [
    {
     "name": "stdout",
     "output_type": "stream",
     "text": [
      "['anger', 'hate', 'happiness', 'relief', 'fun', 'worry', 'boredom', 'sadness', 'surprise', 'empty', 'enthusiasm', 'neutral', 'love']\n"
     ]
    }
   ],
   "source": [
    "# turn a list into a set (of unique items) and then a list again (this removes duplicates)\n",
    "classes = list(set([a[1] for a in data]))\n",
    "print(classes)"
   ]
  },
  {
   "cell_type": "code",
   "execution_count": 24,
   "metadata": {},
   "outputs": [],
   "source": [
    "# capture unique stemmed words in the training corpus\n",
    "corpus_words = {}\n",
    "class_words = {}\n",
    "\n",
    "for c in classes:\n",
    "    # prepare a list of words within each class\n",
    "    class_words[c] = []"
   ]
  },
  {
   "cell_type": "code",
   "execution_count": 29,
   "metadata": {},
   "outputs": [],
   "source": [
    "for dat in data:\n",
    "    # tokenize each sentence into words\n",
    "    for word in nltk.word_tokenize(str(dat[3])):\n",
    "        # ignore a some things\n",
    "        if word not in [\"?\", \"'s\"]:\n",
    "            # stem and lowercase each word\n",
    "            stemmed_word = stemmer.stem(word.lower())\n",
    "            # have we not seen this word already?\n",
    "            if stemmed_word not in corpus_words:\n",
    "                corpus_words[stemmed_word] = 1\n",
    "            else:\n",
    "                corpus_words[stemmed_word] += 1\n",
    "\n",
    "            # add the word to our words in class list\n",
    "            class_words[dat[1]].extend([stemmed_word])"
   ]
  },
  {
   "cell_type": "code",
   "execution_count": 36,
   "metadata": {},
   "outputs": [
    {
     "name": "stdout",
     "output_type": "stream",
     "text": [
      "['know', 'listenin', 'habit', 'ear', 'start', 'freakin', 'part', 'middl', 'school', 'elem', 'high', 'schools', 'wil', 'remain', 'op', 'thos', 'nee', 'credit', 'gradu', 'cal', 'brok', 'fuck', 'textd', 'just', 'answ', 'nev', 'learn', 'writ', 'french', 'just', 'bas', 'stuff', 'hav', 'headach', 'going', 'goodnight', 'nit', 'bor', 'oppos', 'almost', 'sleep', 'watch', 'harp', 'island', 'ther', 'vodk', 'involv', 'trudy', 'burnet', 'nor', 'that', 'goe', 'bout', 'aint', 'gam', 'surv', 'anoth', 'gam', 'sery', 'notin', 'lebron', 'guessin', '@', 'tiffanylu', 'i', 'know', 'i', 'was', 'listenin', 'to', 'bad', 'habit', 'ear', 'and', 'i', 'start', 'freakin', 'at', 'his', 'part', '=', '[', '@', 'crey', 'middl', 'school', 'and', 'elem', '.', 'high', 'schools', 'wil', 'remain', 'op', 'for', 'thos', 'who', 'nee', 'credit', 'to', 'gradu', '.', 'cal', 'is', 'brok', '@', 'djmicdamn', 'hey', 'yu', 'lil', 'fuck', 'i', 'textd', 'yu', '@', 'softtouchm', 'just', 'answ', 'you-', 'nev', 'learn', 'how', 'to', 'writ', 'in', 'french-', 'just', 'bas', 'stuff-', 'hav', 'a', 'headach', 'i', \"'m\", 'going', 'to', 'bed', '.', 'goodnight', '!', '@', 'dymediva23', 'nit', '.', 'now', 'i', \"'m\", 'up', 'n', 'bor', 'as', 'oppos', 'to', 'almost', 'sleep', 'frm', 'b', '4', '@', 'thetombert', 'i', 'was', 'watch', 'harp', 'island', ',', 'lol', '...', 'ther', 'was', 'no', 'vodk', 'involv', '@', 'tarng', 'trudy', 'off', 'burnet', '...', 'the', 'on', 'up', 'nor', 'that', 'no', 'on', 'goe', 'to', '@', 'msz_rockstar', 'um', 'how', 'bout', 'em', '..', 'aint', 'get', '2', 'see', 'da', 'gam', 'but', 'i', 'see', 'dey', 'surv', 'anoth', 'gam', 'of', 'da', 'sery', 'due', 'to', 'notin', 'but', 'lebron', 'im', 'guessin', 'i', 'nee', 'to', 'be', 'sleep', '..', 'but', 'i', \"'m\", 'not', 'ev', 'tir', '..', '0', '@', 'exortabreedol', 'what', 'hap', 'to', 'the', 'maid', 'of', 'yo', 'quit', 'ont', 'again', '...', 'went', 'to', 'the', 'beach', 'and', 'it', 'start', 'rain', 'wut', 'do', 'i', 'do', 'now', 'nee', 'a', 'new', 'phon', 'is', 'anybody', 'up', '....', 'i', \"'m\", 'sooo', 'bor', '!', 'intentando', 'intentarlo', 'ont', 'again', '!', 'say', 'morn', 'everyon', ',', 'off', 'to', 'work', 'in', '10', 'min', 'http', ':', '//plurk.com/p/wxom8', 'should', 'hav', 'gon', 'to', 'bed', 'ag', 'ago', ',', 'damn', 'you', 'tedtalk', '!', 'got', 'ta', 'get', 'up', 'ear', 'too', 'i', 'cam', 'with', 'a', 'q', ':', '&', 'quot', ';', 'any', 'recommend', 'hairdress', 'u', 'r', 'ful', 'and', 'they', 'suggest', 'me', 'to', 'oth', '&', 'quot', ';', 'his', 'ego', 'talk', 'and', 'i', \"'m\", 'in', 'd', 'lin', '@', 'allyycas', 'i', \"'m\", 'try', 'to', 'sleep', '!', '!', '!', 'it', 'not', 'work', '@', 'tinkabellast', 'no', '.', 'my', 'school', 'wil', 'start', 'on', 'june1', '.', 'two', 'day', 'to', 'go', '.', 'i', 'stil', 'do', \"n't\", 'want', '.', ':', 'l', 'thos', 'workm', 'extend', 'r', 'block', 'ca', \"n't\", 'start', 'thi', 'ear', 'sur', '..', 'it', '7:45am', 'and', 'already', 'they', \"'re\", 'mak', 'a', 'racket', 'and', 'wok', 'me', 'up', '!', '@', 'steinmoney', 'you', \"'ll\", 'be', 'miss', '!', '!', 'bring', 'me', 'back', 'a', 'keychain', '!', 'my', 'kne', 'is', 'kil', 'me', 'im', 'off', 'to', 'bed', '!', '!', 'want', 'to', 'go', 'hom', '.', 'unst', 'broadband', 'and', 'elect', 'tak', 'tol', 'on', 'my', 'ment', 'stabl', '.', '@', 'wettingfeld', 'guess', 'i', 'hav', 'to', 'get', 'dress', 'and', 'be', 'pretty', 'then', '@', 'makavellirayn', 'nah', 'the', 'light', 'kil', 'the', 'mood', 'now', 'you', 'got', 'to', 'get', 'out', 'my', 'bed', '@', 'meeksdigit', 'hav', \"n't\", 'work', 'ther', 'for', 'a', 'long', 'tim', 'but', 'kind', 'miss', 'it', '!', 'i', 'miss', 'ann', 'seen', 'her', 'i', \"'ll\", 'prob', 'be', 'in', 'slo', 'most', 'of', 'the', 'sum', '!', 'you', 'ca', \"n't\", 'sleep', ',', 'just', 'lay', 'her', 'in', 'the', 'dark', '@', 'wolfofmibu', 'i', 'nee', 'a', 'wardrob', 'interv', '@', 'kimoraklein', 'my', 'sleep', 'pattern', 'is', 'screwed', 'i', 'nee', 'to', 'try', 'and', 'stay', 'up', '2', 'midnight', 'so', 'i', 'can', 'get', 'som', 'dec', 'sleep', 'coz', 'i', 'hav', 'slept', 'good', 'night', 'twit', 'friend', '-', 'i', \"'m\", 'nod', 'off', 'at', 'the', \"'puter\", 'i', 'want', 'it', 'to', 'be', 'wednesday', 'already', 'so', 'i', 'can', 'hurry', 'up', 'and', 'go', 'to', 'new', 'zealand', 'so', 'i', \"'m\", 'busy', 'and', 'not', 'sit', 'her', 'bor', 'and', 'stressing', 'so', 'had', 'a', 'freakin', 'lond', 'thursday', 'ready', 'to', 'hit', 'the', 'hay', 'and', 'surpr', 'surpr', 'i', 'ca', \"n't\", 'freakin', 'sleep', ':', '/', 'boo', '!', '@', '106jackfm', 'i', \"'m\", 'not', 'that', 'why', 'i', \"'m\", 'sulk', 'not', 'fre', 'al', 'day', '@', 'lacrima', 'pfft', ',', 'ther', 'you', 'go', 'with', 'the', 'log', 'again', '!', 'today', '=', 'mark', '*', '135', 'is', 'tir', 'of', 'being', 'tir', '@', 'littlel', 'yup', '!', 'way', 'to', 'fuck', 'ear', 'and', 'i', \"'m\", 'already', 'at', 'work', '@', 'katiemoff', 'i', 'was', 'nev', 'a', 'good', 'stereotyp', 'teen', 'i', 'spent', 'my', 'fre', 'tim', 'ov', 'the', 'last', 'few', 'day', 'convert', 'my', 'serv', 'to', '64bit', ',', 'get', 'vt-x', 'work', 'etc', 'just', 'to', 'get', 'someth', 'to', 'run', '.', 'no', 'luck', 'http', ':', '//twitpic.com/665w2', '-', 'see', 'mil', 'away', 'sor', 'throat', '.', 'plan', 'the', 'tet', 'out', 'to', 'marwel', 'though', '...', 'good', 'tim', 'sleep', 'what', 'sleep', 'again', 'i', \"'ve\", 'seem', 'to', 'hav', 'forgott', 'the', 'mean', '.', 'too', 'much', 'on', 'my', 'mind', '.', 'or', 'it', 'just', 'my', 'us', 'insonm', '.', 'dog', 'just', 'fart', 'so', 'bad', '.....', '@', 'alegry', 'yeah', ',', 'i', \"'ve\", 'got', 'the', 'sam', 'issu', '-', 'sign', 'up', 'but', 'no', 'confirm', 'email', '@', 'davidnikel', 'i', 'do', \"n't\", 'ev', 'know', 'what', 'sport', 'soc', 'enterpr', 'mean', '....', 'just', 'watch', 'mal', 'cop', '.', 'was', \"n't\", 'that', 'funny', ',', 'but', 'was', \"n't\", 'too', 'bad', '.', 'i', 'guess', '.', 'i', 'kind', 'wish', 'i', 'stil', 'work', 'at', 'a', 'movy', 'the', '....', 'the', 'sun', 'is', 'shin', 'and', 'i', \"'m\", 'stuck', 'in', 'work', '@', 'magusweav', 'do', \"n't\", 'follow', 'me', '.', 'you', 'wil', 'ruin', 'my', 'twit', 'expery', 'i', 'had', '2', 'buy', 'a', 'new', 'wash', ',', 'bought', 'the', 'dry', '2', '.', 'dry', 'label', 'elect', 'but', 'is', 'gas', 'grrr', '.', 'now', 'we', 'hav', '2', 'load', 'it', 'up', 'tomorrow', '2', 'return', 'it', '.', 'curs', 'you', 'breakfast', 'god', '....', 'ful', 'bowl', 'of', 'cer', '+', 'not', 'enough', 'milk', '=', 'what', 'the', 'hel', 'am', 'i', 'doing', 'awak', 'thi', 'ear', ',', '@', 'femiknitz', 'three-quarters', 'through', 'i', 'believ', '.', 'wil', 'not', 'fin', 'tonight', '.', 'i', 'blam', 'errand', 'and', 'a', 'certain', 'loud', 'at', 'a', 'bookst', '.', '@', 'catticho', 'diego', 'i', 'know', 'lo', 'am', 'a', 'jack', '@', 'apdiggl', 'he', 'my', 'moth', 'favorit', '.', 'it', 'was', 'so', 'hard', 'tel', 'her', '.', 'i', 'fal', 'asleep', 'and', 'didnt', 'get', 'to', 'see', 'the', 'jona', 'broth', 'web', 'cast', '...', 'stil', 'tierd', '@', 'steve_caruso', 'so', 'i', 'took', 'the', 'pol', 'off', 'of', 'the', 'nail', 'of', 'the', 'fing', 'the', 'door', 'handl', 'murd', 'ear', ',', 'and', 'wel', '...', 'it', 'not', 'pretty', '....', 'awak', 'at', '4am', '..', 'ca', \"n't\", 'sleep', 'my', 'cucumb', 'has', 'gon', 'limp', 'is', 'lead', 'dul', 'lif', 'thi', 'friday', '...', 'babysit', '!', 'so', 'bor', '...', 'you', 'fool', 'me', '!', 'woe', ',', 'it', 'definit', 'no', 'fun', 'to', 'travel', 'first', 'class', 'with', 'a', 'bik', '.', 'you', 'hav', 'to', 'fight', 'yo', 'way', 'through', '7', 'coach', \"'til\", 'you', 'reach', 'yo', 'seat', '@', 'chrisontv88', 'i', 'had', 'a', 'jok', 'for', 'you', ',', 'but', 'it', 'too', 'long', 'to', 'tweet', '.', 'sittin', 'her', 'bor', 'az', 'hel', '...', 'nuffin', '2', 'do', 'at', 'lyk', '3:30', 'in', 'da', 'morn', 'in', 'monro', ',', 'louisian', '!', '!', '!', '@', 'donniewahlberg', 'lol', 'i', 'wos', 'gon', 'send', 'min', 'in', 'bt', 'i', 'was', 'too', 'lat', 'xx', 'head', 'to', 'the', 'hospit', '.', 'i', 'ca', \"n't\", 'tak', 'the', 'pain', 'anym', '@', 'timwhitlock', 'er', 'you', 'can', 'turn', 'on', 'optim', 'js+css', '&', 'amp', ';', 'cach', 'ont', 'we', 'deploy', 'the', 'thing', ',', 'but', 'i', 'hear', 'what', 'you', \"'re\", 'say', 'ugh', '2', 'day', 'whatev', 'to', 'somewh', '@', 'donniewahlberg', 'and', 'now', 'i', 'hav', 'to', 'shut', 'comput', 'down', 'and', 'get', 'ready', 'to', 'go', 'hom', 'from', 'work', '....', 'what', 'a', 'bum', '.', 'friend', 'rom', 'and', 'country', 'men', 'lol', 'ppl', 'nee', '2', 'help', 'me', 'out', 'and', 'say', 'i', 'hav', 'twit', 'i', 'dont', 'hav', 'any', 'friend', 'lon', 'lon', 'la', 'da', 'da', '@', 'redbaff', 'no', 'win', 'her', '-', 'i', 'don', ';', 't', 'drink', '-', 'but', 'i', 'hav', 'hav', 'plenty', 'of', 'forbid', 'choloc', '@', 'jayce_kay', 'morn', '!', 'how', 'yo', 'day', '.', 'hop', 'you', \"'re\", 'not', 'anoth', 'lying', 'in', 'the', 'sun', '@', 'blue_cupcakes', 'that', 'busy', 'wows', '..', 'okay', 'my', 'pizza', 'gon', 'na', 'be', 'a', 'whil', 'sorry', '..', 'is', 'so', 'bor', '...', 'is', 'work', '.', 'boo', 'fight', 'with', 'nagio', 'config', '.', 'gre', 'tool', 'but', 'the', 'config', 'is', 'a', 'bit', 'of', 'a', 'labo', '@', 'queenqh', 'd=', 'indee', 'is', 'hungry', 'with', 'a', 'sub', 'glory', 'day', 'in', 'glasgow', 'for', 'a', 'chang', ',', 'and', 'i', \"'m\", 'work', 'too', 'much', 'to', 'do', 'to', 'ev', 'contempl', 'knock', 'off', 'ear', '...', 'is', 'bor', 'at', 'hom', 'has', 'had', 'to', 'reboot', 'her', 'laptop', 'to', 'fact', 'set', ',', 'los', 'everyth', 'in', 'the', 'process', '.', '@', 'alanmcnam', 'nop', 'no', 'ide', ',', 'i', \"'ve\", 'reg', ',', 'so', 'far', 'no', 'respons', 'hop', 'i', 'hear', 'someth', 'soon', 'about', 'krystl', 'surgery', 'it', 'suppos', 'to', 'be', 'ev', 'hot', 'today', 'than', 'yesterday', '.', 'wear', 'short', 'to', 'work', '.', '@', 'deannlr', ':', ':', ':', 'just', 'got', 'it', 'cut', 'yesterday', 'http', ':', '//twitpic.com/66ncy', '@', 'youngstud07', 'i', 'found', 'it', ',', 'i', 'ad', 'it', ',', 'but', 'it', 'stil', 'block', '!', '25', 'hour', 'and', 'count', '.', 'just', 'got', 'back', 'from', 'my', 'first', 'sess', 'at', 'the', 'gym', 'with', 'a', 'pt', '.', 'i', \"'m\", 'sor', 'allread', '@', 'dojy', 'oooh', 'lush', '.', 'i', 'cant', 'sunbath', 'i', 'burn', 'way', 'to', 'easy', 'ev', 'with', 'sun', 'cream', '@', 'sof', 'im', 'gre', 'thank', 'lov', 'sunny', 'day', 'no', 'wtf', 'rehears', 'off', 'got', 'to', 'spac', 'and', 'room', 'was', 'book', 'and', 'the', 'broth', 'hav', 'stuff', 'right', 'aft', 'so', 'we', 'cant', 'transf', 'to', 'anoth', 'room', 'studio', '@', 'wrhunt', 'and', 'what', 'did', 'you', 'do', 'last', 'night', ',', 'i', 'do', \"n't\", 'recal', 'being', 'invit', 'work', '...', 'and', 'attempt', 'to', 'keep', 'squirrel', 'away', '..............', 'squirel', '1', ',', 'jessk', '0', 'i', 'should', 'stick', 'to', 'spid', 'hom', 'for', 'lunch', '&', 'amp', ';', 'doubl', 'fre', '.', 'work', '5-8.', 'so', 'much', 'school', 'work', 'facebook.com', 'isint', 'let', 'me', 'chang', 'my', 'profil', 'pict', 'real', 'hat', 'delay', 'train', 'espec', '44', 'minut', 'delay', 'train', '.', 'now', 'going', 'to', 'be', 'lat', 'for', 'work', 'work', 'on', 'som', 'produc', 'buzz', '(', 'produc', 'review', ')', 'for', 'the', 'blog', '...', 'hav', 'a', 'pain', 'in', 'the', 'back', 'of', 'my', 'neck', '@', 'shakeyourjunk', 'at', 'wrk', '...', 'gtta', 'com', 'back', 'tonit', 'i', 'do', \"n't\", 'want', 'to', 'program', 'today', '@', 'geezushaberdash', 'awww', 'i', 'told', 'you', 'when', 'i', 'would', 'chang', 'it', '.', 'i', 'suggest', 'you', 'try', 'to', 'get', 'in', 'touch', 'w/', 'dre', 'peopl', '.', 'lol', 'cle', 'and', 'pack', '@', 'dsbabygirl', 'hav', 'a', 'stressful', 'morn', '!', 'just', 'got', 'my', 'comput', 'back', '(', 'crash', ')', '-', 'try', 'to', 'reinstal', 'everyth', '.', '@', 'jenthegingerkd', '@', 'c2s', '@', 'cjewel', '@', 'jenschal', 'i', 'lik', 'friday', 'gen', ',', 'but', 'class', 'is', 'extend', 'today', 'and', 'i', \"'m\", 'starv', ':', 'x', 'hah', '&', 'lt', ';', '/whine', '&', 'gt', ';', 'o', ':', '-p', '@', 'namof', 'i', 'know', 'my', 'bro', 'ask', 'if', 'i', 'shak', 'my', 'fist', 'and', 'now', 'own', '6', 'cat', '.', 'wil', 'hav', 'to', 'mak', 'up', 'for', 'last', 'night', 'thi', 'weekend', 'when', 'i', \"'m\", 'in', 'phil', '.', 'bor', 'bor', 'bor', '.', 'noth', 'to', 'do', 'today', 'besid', 'work', 'at', '5', '@', 'annakayh', 'yo', 'not', 'in', 'school', '@', 'finnmacool', 'i', 'am', 'lost', '.', 'pleas', 'help', 'me', 'find', 'a', 'good', 'hom', '.', '@', 'ayeemt', 'ca', \"n't\", ',', 'sorry', 'and', 'do', \"n't\", 'cal', 'me', 'lam', '.', '@', '957thebeat', 'i', 'want', 'mag', 'mountain', 'tix', 'but', 'i', 'dont', 'get', 'ur', 'stat', 'out', 'in', 'paso', 'boo', 'sux', 'for', 'me', '@', 'lovel', 'i', 'aint', 'blanco', 'eith', '..', 'yo', '100', '%', 'puerto', 'ric', 'mam', '....', 'yo', 'show', 'muy', 'am', 'yi', 'tu', '...', 'but', 'yo', 'no', 'se', '...', 'ahh', 'i', 'hat', 'when', 'you', 'bbrush', 'yo', 'tee', 'so', 'hard', 'you', 'mak', 'yo', 'gum', 'blee', '@', 'hellorachael', 'yep', 'fem', 'and', 'mal', '3', 'year', 'old', 'lab', 'look', 'for', 'new', 'hom', 'famy', 'is', 'loos', 'their', 'hom', '.', 'both', 'must', 'stay', 'togeth', '.', 'contact', 'me', 'if', 'interest', '.', 'is', 'tak', 'a', 'deep', 'deep', 'brea', '@', 'runpaintrunrun', '@', 'wordsnfixt', 'not', 'pim', 'in', 'a', 'can', '@', 'megabyte6', 'me', 'too', 'i', \"'ve\", 'on', 'been', 'up', 'for', 'an', 'hour', 'and', 'today', 'already', 'suck', 'is', 'not', 'look', 'forward', 'to', 'the', 'lsat', 'i', 'must', 'hav', 'apply', 'for', 'about', '20', 'job', 'every', 'day', 'thi', 'week', ',', 'why', 'wo', \"n't\", 'on', 'of', 'them', 'contact', 'me', 'i', \"'m\", 'struggling', 'today', '...', 'nol', 'wok', 'up', 'at', '3:30', ',', 'so', 'i', \"'m\", 'run', 'on', 'no', 'sleep', '.', 'let', 'me', 'out', 'googl', 'going', 'down', 'mean', 'doubleclick', 'goe', 'down', 'too', ',', 'mean', 'i', 'ca', \"n't\", 'get', 'any', 'work', 'don', '.', 'feel', 'real', 'weird', 'today', '.', '@', 'alisonhaislip', 'i', 'envy', 'everyon', 'on', 'aot', '...', 'just', 'get', 'back', 'hom', '.', 'the', 'first', 'exam', 'was', 'too', 'long', 'no', 'tim', 'to', 'fin', 'it', '...', 'it', 'beeen', 'on', 'year', 'cle', 'my', 'room', '..', 'gon', 'na', 'nap', 'n', 'chil', 'then', 'prob', 'go', 'to', 'the', 'movy', 'lat', '.', 'ugh', 'i', 'hav', 'a', 'headach', 'thi', 'sux', 'ass', '.', 'cloudy', 'day', 'too', 'the', 'downfal', 'about', 'relax', 'lat', 'is', 'mad', 'man', 'lab', 'now', '...', 'just', 'fin', 'cle', 'the', 'fridg', '..', 'and', 'now', 'to', 'fold', 'cloth', '..', 'hous', 'work', 'blu', '@', 'less_than_3', 'i', 'am', 'so', 'bor', ',', 'i', 'real', 'do', \"n't\", 'know', 'what', 'to', 'do', '!', 'i', 'would', 'lik', 'som', 'macaron', 'and', 'chees', 'pleas', '....', 'no', 'real', 'wish', 'he', 'had', 'som', 'spar', 'cash', 'to', 'buy', 'the', 'new', 'punch', 'out', 'for', 'wii', 'ca', \"n't\", 'ev', 'tel', 'you', 'how', 'much', 'thi', 'hair', 'dress', 'is', 'pissssss', 'me', 'off', 'she', 'has', 'no', 'clu', 'wtf', 'i', \"'m\", 'ask', 'her', 'to', 'do', '..', 'so', 'i', \"'m\", 'expect', 'the', 'worst', '@', 'radinov', 'bah', ',', \"you'be\", 'mad', 'me', 'al', 'hungry', 'now', '@', 'usagid', 'i', 'did', \"n't\", 'lik', 'the', 'new', 'termin', 'movy', ',', 'man', 'slammin', 'headach', 'from', 'being', 'out', 'in', 'the', 'sun', 'got', 'my', 'wisdom', 'tee', 'remov', 'it', 'hurt', '.', '@', 'lacesoutd', 'nah', ',', 'he', 'was', 'act', 'lik', 'a', 'dick', '-', 'his', 'show', 'suck', 'last', 'night', '@', 'jen4buz', 'how', 'inconsid', '!', 'is', 'about', 'to', 'go', 'for', 'a', 'run', '..', 'in', 'thi', 'weath', '..', 'fin', 'week', 'dont', 'both', 'me', 'im', 'study', 'do', 'fish', 'feel', 'pain', 'ye', ',', 'say', 'a', 'new', 'study', '.', 'http', ':', '//is.gd/jbcg', 'just', 'found', 'out', 'i', 'hav', 'strep', 'haih', '..', 'can', 'not', 'sleep', 'lar', '..', '@', 'el_jeffe83', 'it', 'al', 'the', 'rain', '@', '_cheshire_cat_', '@', 'deardrahp', 'do', \"n't\", 'know', 'and', 'no', 'not', 'at', 'al', 'piz', 'last', 'lunch', 'in', 'b-dubb', 'fin', 'the', 'noodl', '.', 'don', 'the', 'dishwash', '.', 'real', 'real', 'warm', '.', 'i', 'do', \"n't\", 'lik', 'it', 'i', \"'m\", 'stil', 'wait', 'for', 'the', 'oprah', 'touch', '@', 'shooz1', 'ok', 'ok', 'mam', '...', 'i', 'was', 'jus', 'angry', 'fml', 'i', 'just', 'spil', 'my', 'entir', 'can', 'of', 'diet', 'cok', 'in', 'my', 'lap', '.', 'yay', 'want', 'to', 'leav', 'work', 'ear', 'today', 'but', 'stuff', 'keep', 'accum', '.', 'thi', 'friday', 'is', 'so', 'a', 'monday', 'in', 'disgu', '.', 'lol', '@', 'nick_carter', 'the', 'video', 'is', 'priv', '.', 'erm', 'ovas', '&', 'quot', ';', 'video', 'twit', '&', 'quot', ';', 'iz', 'tweet', 'ne', 'rad', '.', 'niï¿½ta', 'od', 'microcasting', '@', 'dannyid', 'the', 'bal', 'is', '~', '$', '8,000', '.', 'unfortun', 'i', 'hav', 'been', 'abl', 'to', 'find', 'a', 'card', 'that', 'has', 'a', 'limit', 'high', 'enough', 'to', 'transf', 'the', 'whol', 'thing', 'i', \"'m\", 'bor', 'at', 'work', '@', 'nick_carter', 'the', 'link', 'doesnt', 'work', 'eu', 'to', 'com', 'fom', 'i', 'dreamt', 'about', 'monst', 'last', 'night', '.', 'lik', 'a', 'littl', 'girl', '.', 'off', 'to', 'meet', 'in', 'lincoln', 'squ', ',', 'bum', ',', 'no', 'mor', 'fre', 'park', 'new', 'neighb', 'ar', 'mov', 'in', '....', 'off', 'to', 'giv', 'my', 'brazil', 'pres', 'that', 'i', 'shouldv', 'giv', 'on', 'wed', '!', '!', '!', 'but', 'som', 'peopl', 'went', 'overtim', 'is', 'watch', 'mock', 'the', 'week', 'and', 'is', 'slow', 'cook', '@', '_glitter_', 'kk', 'but', '4', 'sum', 'reason', 'it', 'not', 'lettin', 'me', 'vot', '4', 'them', 'cold', 'day', ':', '/', 'stud', 'al', 'day', 'long', 'to', 'the', 'test', 'tomorrow', 'writ', 'an', 'essay', 'in', 'colleg', 'writ', 'so', 'bor', 'at', 'work', 'doing', 'websit', 'stuff', 'with', 'a', 'slight', 'fev', 'and', 'tiny', 'headach', 'when', 'god', 'cre', 'man', 'i', 'also', 'believ', 'he', 'cre', 'a', 'mil', 'peopl', 'to', 'get', 'on', 'ya', 'tit', 'for', 'a', 'laff', 'hav', 'problem', 'with', 'my', 'blackberry', 'ugh', 'i', 'nee', 'anoth', 'charg', 'battery', '!', '(', '@', 'least', '4', 'now', ')', '@', 'sexyhunnybunny', '@', 'fareforward', 'do', 'you', 'nee', 'to', 'go', 'on', 'a', 'bik', 'rid', '@', 'fairychica78', 'aw', ',', 'that', 'stink', ',', 'i', \"'m\", 'sorry', '.', '@', 'emuhleep', 'why', '@', 'bookwormlady2', 'ar', 'you', 'not', 'wel', '@', 'kimbermuffin', '@', 'sheenst', 'dont', 'get', 'too', 'excit', 'bby', 'i', 'hear', 'thund', 'rol', 'in', 'watchin', 'tyr', 'bor', 'lik', 'alway', 'my', 'stomach', 'hurt', 'allergy', 'suck', '...', 'my', 'ey', 'r', 'ev', 'mor', 'red', 'than', 'they', 'wer', 'b4', '.', 'i', 'think', 'i', \"'ll\", 'stay', 'insid', '2day', 'in', 'hum', 'anatom', 'bor', 'out', 'of', 'my', 'minddd', '!', 'someon', 'sav', 'me', '.', 'jon', '&', 'amp', ';', 'kat', '+', '8', 'kid', 'attract', 'a', 'hug', 'tv', 'audy', ',', 'tabloid', 'headlin', ',', 'and', 'now', 'a', 'stat', 'lab', 'investig', 'http', ':', '//tinyurl.com/l7zt72', 'urgh', '....', 'feel', 'lik', 'crap', 'today', '.', 'bad', 'headach', ',', 'tir', ',', 'blood', 'sug', 'too', 'high', '.', 'know', 'listenin', 'habit', 'ear', 'start', 'freakin', 'part', 'middl', 'school', 'elem', 'high', 'schools', 'wil', 'remain', 'op', 'thos', 'nee', 'credit', 'gradu', 'cal', 'brok', 'fuck', 'textd', 'just', 'answ', 'nev', 'learn', 'writ', 'french', 'just', 'bas', 'stuff', 'hav', 'headach', 'going', 'goodnight', 'nit', 'bor', 'oppos', 'almost', 'sleep', 'watch', 'harp', 'island', 'ther', 'vodk', 'involv', 'trudy', 'burnet', 'nor', 'that', 'goe', 'bout', 'aint', 'gam', 'surv', 'anoth', 'gam', 'sery', 'notin', 'lebron', 'guessin', 'nee', 'sleep', 'ev', 'tir', 'nan', 'what', 'hap', 'maid', 'yo', 'quit', 'ont', 'again', 'went', 'beach', 'start', 'rain', 'nan', 'nee', 'phon', 'anybody', 'sooo', 'bor', 'intentando', 'intentarlo', 'ont', 'again', 'say', 'morn', 'everyon', 'work', 'http', 'plurk', 'wxom', 'should', 'hav', 'gon', 'ag', 'damn', 'tedtalk', 'got', 'ta', 'ear', 'cam', 'with', 'quot', 'recommend', 'hairdress', 'ful', 'they', 'suggest', 'oth', 'quot', 'talk', 'lin', 'try', 'sleep', 'work', 'school', 'wil', 'start', 'jun', 'day', 'stil', 'want', 'thos', 'workm', 'extend', 'block', 'start', 'thi', 'ear', 'sur', 'already', 'they', 'mak', 'racket', 'wok', 'miss', 'bring', 'back', 'keychain', 'kne', 'kil', 'want', 'hom', 'unst', 'broadband', 'elect', 'tak', 'tol', 'ment', 'stabl', 'guess', 'hav', 'dress', 'pretty', 'then', 'light', 'kil', 'mood', 'hav', 'work', 'ther', 'long', 'tim', 'kind', 'miss', 'miss', 'ann', 'seen', 'prob', 'most', 'sum', 'sleep', 'just', 'lay', 'her', 'dark', 'nee', 'wardrob', 'interv', 'sleep', 'pattern', 'screwed', 'nee', 'stay', 'midnight', 'som', 'dec', 'sleep', 'hav', 'slept', 'good', 'night', 'twit', 'friend', 'nod', 'put', 'want', 'wednesday', 'already', 'hurry', 'zealand', 'busy', 'sit', 'her', 'bor', 'stressing', 'freakin', 'lond', 'thursday', 'ready', 'surpr', 'surpr', 'freakin', 'sleep', 'that', 'sulk', 'fre', 'pfft', 'ther', 'with', 'log', 'again', 'today', 'mark', 'tir', 'being', 'tir', 'fuck', 'ear', 'already', 'work', 'nev', 'good', 'stereotyp', 'teen', 'spent', 'fre', 'tim', 'ov', 'last', 'day', 'convert', 'serv', 'get', 'work', 'just', 'someth', 'luck', 'http', 'twitp', 'mil', 'away', 'sor', 'throat', 'plan', 'out', 'marwel', 'though', 'good', 'tim', 'sleep', 'what', 'sleep', 'again', 'seem', 'hav', 'forgott', 'mean', 'much', 'mind', 'just', 'us', 'insonm', 'just', 'fart', 'yeah', 'sam', 'issu', 'sign', 'confirm', 'email', 'ev', 'know', 'what', 'sport', 'soc', 'enterpr', 'mean', 'just', 'watch', 'mal', 'wasn', 'that', 'funny', 'wasn', 'guess', 'kind', 'wish', 'stil', 'work', 'movy', 'the', 'shin', 'stuck', 'work', 'follow', 'wil', 'ruin', 'twit', 'expery', 'wash', 'bought', 'dry', 'dry', 'label', 'elect', 'grrr', 'hav', 'load', 'tomorrow', 'return', 'curs', 'breakfast', 'god', 'ful', 'bowl', 'cer', 'enough', 'milk', 'what', 'hel', 'doing', 'awak', 'thi', 'ear', 'three', 'quart', 'through', 'believ', 'wil', 'fin', 'tonight', 'blam', 'errand', 'certain', 'loud', 'bookst', 'diego', 'know', 'jack', 'moth', 'favorit', 'hard', 'tel', 'fal', 'asleep', 'didnt', 'jona', 'broth', 'cast', 'stil', 'tierd', 'took', 'pol', 'nail', 'fing', 'door', 'handl', 'murd', 'ear', 'wel', 'pretty', 'awak', 'sleep', 'cucumb', 'gon', 'limp', 'lead', 'dul', 'lif', 'thi', 'friday', 'babysit', 'bor', 'fool', 'definit', 'travel', 'first', 'class', 'with', 'bik', 'hav', 'fight', 'yo', 'through', 'coach', 'reach', 'yo', 'seat', 'jok', 'long', 'tweet', 'sittin', 'her', 'bor', 'hel', 'nuffin', 'morn', 'monro', 'louisian', 'gon', 'send', 'min', 'lat', 'head', 'hospit', 'tak', 'pain', 'anym', 'turn', 'optim', 'cach', 'ont', 'deploy', 'thing', 'hear', 'what', 'say', 'day', 'whatev', 'somewh', 'hav', 'shut', 'comput', 'down', 'ready', 'hom', 'from', 'work', 'what', 'bum', 'friend', 'rom', 'country', 'nee', 'help', 'hav', 'twit', 'dont', 'hav', 'friend', 'lon', 'lon', 'win', 'her', 'drink', 'hav', 'hav', 'plenty', 'forbid', 'choloc', 'morn', 'how', 'yo', 'hop', 'anoth', 'lying', 'that', 'busy', 'wows', 'okay', 'pizza', 'gon', 'na', 'whil', 'sorry', 'bor', 'work', 'fight', 'with', 'nagio', 'config', 'gre', 'tool', 'config', 'labo', 'indee', 'hungry', 'with', 'glory', 'glasgow', 'chang', 'work', 'much', 'ev', 'contempl', 'knock', 'ear', 'bor', 'hom', 'reboot', 'laptop', 'fact', 'set', 'los', 'everyth', 'process', 'nop', 'ide', 'reg', 'respons', 'hop', 'hear', 'someth', 'soon', 'about', 'krystl', 'surgery', 'suppos', 'ev', 'hot', 'today', 'than', 'yesterday', 'wear', 'short', 'work', 'just', 'yesterday', 'http', 'twitp', 'found', 'ad', 'stil', 'block', 'hour', 'count', 'just', 'back', 'from', 'first', 'sess', 'with', 'sor', 'allread', 'oooh', 'lush', 'cant', 'sunbath', 'burn', 'easy', 'ev', 'with', 'cream', 'gre', 'thank', 'lov', 'sunny', 'rehears', 'spac', 'room', 'book', 'broth', 'hav', 'stuff', 'right', 'aft', 'cant', 'transf', 'anoth', 'room', 'studio', 'what', 'last', 'night', 'recal', 'being', 'invit', 'work', 'attempt', 'keep', 'squirrel', 'away', 'squirel', 'jessk', 'should', 'stick', 'spid', 'hom', 'lunch', 'doubl', 'fre', 'work', 'much', 'school', 'work', 'facebook', 'isint', 'let', 'chang', 'profil', 'pict', 'real', 'hat', 'delay', 'train', 'espec', 'minut', 'delay', 'train', 'going', 'lat', 'work', 'work', 'som', 'produc', 'buzz', 'produc', 'review', 'blog', 'hav', 'pain', 'back', 'neck', 'nan', 'gtta', 'com', 'back', 'tonit', 'want', 'program', 'today', 'awww', 'told', 'when', 'would', 'chang', 'suggest', 'touch', 'peopl', 'cle', 'pack', 'hav', 'stressful', 'morn', 'just', 'comput', 'back', 'crash', 'try', 'reinstal', 'everyth', 'lik', 'friday', 'gen', 'class', 'extend', 'today', 'starv', 'hah', 'whin', 'know', 'ask', 'shak', 'fist', 'cat', 'wil', 'hav', 'mak', 'last', 'night', 'thi', 'weekend', 'when', 'phil', 'bor', 'bor', 'bor', 'noth', 'today', 'besid', 'work', 'yo', 'school', 'lost', 'pleas', 'help', 'find', 'good', 'hom', 'sorry', 'cal', 'lam', 'want', 'mag', 'mountain', 'dont', 'stat', 'paso', 'aint', 'blanco', 'eith', 'puerto', 'ric', 'mam', 'show', 'am', 'hat', 'when', 'bbrush', 'yo', 'tee', 'hard', 'mak', 'yo', 'gum', 'blee', 'nan', 'fem', 'mal', 'year', 'lab', 'look', 'hom', 'famy', 'loos', 'their', 'hom', 'both', 'must', 'stay', 'togeth', 'contact', 'interest', 'tak', 'deep', 'deep', 'brea', 'pim', 'nan', 'on', 'been', 'hour', 'today', 'already', 'suck', 'look', 'forward', 'lsat', 'must', 'hav', 'apply', 'about', 'job', 'every', 'thi', 'week', 'them', 'contact', 'struggling', 'today', 'nol', 'wok', 'run', 'sleep', 'nan', 'googl', 'going', 'down', 'mean', 'doubleclick', 'goe', 'down', 'mean', 'work', 'don', 'feel', 'real', 'weird', 'today', 'envy', 'everyon', 'aot', 'just', 'back', 'hom', 'first', 'exam', 'long', 'tim', 'fin', 'beeen', 'on', 'year', 'cle', 'room', 'gon', 'na', 'chil', 'then', 'prob', 'movy', 'lat', 'hav', 'headach', 'thi', 'cloudy', 'downfal', 'about', 'relax', 'lat', 'man', 'lab', 'just', 'fin', 'cle', 'fridg', 'fold', 'cloth', 'hous', 'work', 'blu', 'nan', 'bor', 'real', 'know', 'what', 'would', 'lik', 'som', 'macaron', 'chees', 'pleas', 'real', 'wish', 'som', 'spar', 'cash', 'punch', 'ev', 'tel', 'much', 'thi', 'hair', 'dress', 'pissssss', 'clu', 'ask', 'expect', 'worst', 'mad', 'hungry', 'didn', 'lik', 'termin', 'movy', 'slammin', 'headach', 'from', 'being', 'wisdom', 'tee', 'remov', 'hurt', 'act', 'lik', 'dick', 'show', 'suck', 'last', 'night', 'inconsid', 'about', 'thi', 'weath', 'fin', 'week', 'dont', 'both', 'study', 'fish', 'feel', 'pain', 'say', 'study', 'http', 'jbcg', 'just', 'found', 'hav', 'strep', 'haih', 'can', 'not', 'sleep', 'rain', 'nan', 'know', 'last', 'lunch', 'dub', 'fin', 'noodl', 'don', 'dishwash', 'real', 'real', 'warm', 'lik', 'stil', 'wait', 'oprah', 'touch', 'angry', 'just', 'spil', 'entir', 'diet', 'cok', 'want', 'leav', 'work', 'ear', 'today', 'stuff', 'keep', 'accum', 'thi', 'friday', 'monday', 'disgu', 'video', 'priv', 'ovas', 'quot', 'video', 'twit', 'quot', 'tweet', 'rad', 'microcasting', 'bal', 'unfortun', 'hav', 'been', 'abl', 'find', 'card', 'that', 'limit', 'high', 'enough', 'transf', 'whol', 'thing', 'bor', 'work', 'link', 'doesnt', 'work', 'fom', 'dreamt', 'about', 'monst', 'last', 'night', 'lik', 'littl', 'girl', 'meet', 'lincoln', 'squ', 'bum', 'mor', 'fre', 'park', 'neighb', 'mov', 'giv', 'brazil', 'pres', 'that', 'shouldv', 'giv', 'som', 'peopl', 'went', 'overtim', 'watch', 'mock', 'week', 'slow', 'cook', 'reason', 'lettin', 'vot', 'them', 'cold', 'stud', 'long', 'test', 'tomorrow', 'writ', 'essay', 'colleg', 'writ', 'bor', 'work', 'doing', 'websit', 'stuff', 'with', 'slight', 'fev', 'tiny', 'headach', 'when', 'cre', 'also', 'believ', 'cre', 'mil', 'peopl', 'tit', 'laff', 'hav', 'problem', 'with', 'blackberry', 'nee', 'anoth', 'charg', 'battery', 'least', 'sexyhunnybunny', 'nee', 'bik', 'rid', 'that', 'stink', 'sorry', 'nan', 'wel', 'nan', 'dont', 'excit', 'hear', 'thund', 'rol', 'watchin', 'tyr', 'bor', 'lik', 'alway', 'stomach', 'hurt', 'allergy', 'suck', 'ey', 'ev', 'than', 'they', 'wer', 'think', 'stay', 'insid', 'hum', 'anatom', 'bor', 'minddd', 'someon', 'sav', 'kat', 'kid', 'attract', 'hug', 'audy', 'tabloid', 'headlin', 'stat', 'lab', 'investig', 'http', 'tinyurl', 'urgh', 'feel', 'lik', 'crap', 'today', 'headach', 'tir', 'blood', 'sug', 'high', 'that', 'suck', 'nobody', 'want', 'stay', 'loung', 'someth', 'fre', 'on', 'respond', 'ddlovato', 'that', 'yo', 'wish', 'could', 'wel', 'nan', 'her', 'stamford', 'anyon', 'hav', 'twit', 'issu', 'eat', 'tweet', 'waitin', 'hom', 'tak', 'been', 'waitin', 'hour', 'although', 'know', 'would', 'nev', 'okay', 'with', 'homebir', 'moot', 'point', 'sint', 'don', 'baby', 'bor', 'thos', 'night', 'again', 'target', 'dndn', 'near', 'day', 'bor', 'think', 'could', 'mor', 'bor', 'got', 'ta', 'littl', 'jeal', 'becaus', 'fin', 'record', 'party', 'ab', 'subway', 'al', 'http', 'yfrog', 'ayzys', 'someth', 'doesnt', 'hap', 'around', 'her', 'gon', 'na', 'fal', 'asleep', 'sooo', 'rob', 'driv', 'that', 'about', 'just', 'that', 'her', 'feel', 'loop', 'twit', 'desktop', 'hav', 'list', 'week', 'read', 'engadget', 'ag', 'break', 'dai', 'build', 'brok', 'dai', 'plan', 'wel', 'deadlin', 'dont', 'wan', 'na', 'span', 'today', 'cak', 'sold', 'termin', 'verg', 'buy', 'black', 'brit', 'today', 'then', 'apart', 'complex', 'overr', 'dumb', 'http', 'twitp', 'dont', 'lik', 'reinstal', 'ap', 'company', 'macbook', 'aft', 'being', 'assimil', 'into', 'act', 'direct', 'collect', 'load', 'insect', 'attack', 'tim', 'insid', 'forgot', 'complain', 'about', 'southwest', 'doing', 'preboard', 'famy', 'mor', 'worst', 'part', 'travel', 'tir', 'wan', 'na', 'thi', 'houston', 'heat', 'nan', 'beauty', 'nic', 'stuck', 'insid', 'got', 'ta', 'ewrt', 'outlin', 'then', 'ten', 'then', 'work', 'nee', 'mor', 'tim', 'tonight', 'gre', 'night', 'sport', 'yank', 'lak', 'both', 'play', 'want', 'watch', 'gam', 'stil', 'scar', 'drink', 'wel', 'just', 'took', 'shit', 'hom', 'from', 'train', 'hop', 'just', 'altern', 'know', 'feel', 'cassy', 'went', 'miss', 'week', 'stil', 'hav', 'display', 'miss', 'much', 'typ', 'googl', 'doc', 'down', 'wel', 'op', 'pag', 'thank', 'otherinbox', 'work', 'with', 'outlook', 'fair', 'upset', 'fact', 'twit', 'sess', 'wil', 'hav', 'com', 'without', 'work', 'work', 'work', 'closest', 'good', 'hour', 'hav', 'som', 'hungry', 'wan', 'na', 'outt', 'know', 'espec', 'sint', 'sum', 'such', 'bor', 'tim', 'begin', 'with', 'today', 'guess', 'min', 'calippo', 'wil', 'hav', 'suff', 'wan', 'na', 'everyon', 'want', 'vot', '#', 'frustrad', 'someon', 'just', 'bought', 'domain', 'plan', 'buy', 'yesterday', 'damn', 'thi', 'absurd', 'feel', 'lik', 'dip', 'pool', 'real', 'quick', 'dont', 'hav', 'poool', 'ev', 'when', 'deep', 'down', 'insid', 'ther', 'pain', 'oth', 'sid', 'that', 'driv', 'down', 'cal', 'july', 'pleasanton', 'awww', 'sowy', 'shorty', 'lov', 'daddy', 'want', 'hous', 'today', 'wishhh', 'noth', 'quot', 'aaarrrgggghhh', 'quot', 'on', 'thing', 'that', 'decrib', 'feel', 'rit', 'just', 'cam', 'back', 'from', 'school', 'pack', 'hous', 'thes', 'kid', 'terr', 'good', 'ev', 'cal', 'childlin', 'wher', 'littl', 'wormy', 'from', 'labyrin', 'sad', 'pass', 'away', 'today', 'stil', 'around', 'happy', 'ghost', 'form', 'http', 'twitp', 'min', 'look', 'sam', 'ther', 'noth', 'her', 'should', 'just', 'hom', 'look', 'bath', 'suit', 'humbug', 'took', 'short', 'ready', 'work', 'burn', 'hurt', 'sooo', 'bor', 'candac', 'ready', 'snowbal', 'stil', 'sadfac', 'luv', 'pet', 'wentz', 'fukin', 'hot', 'hav', 'slip', 'year', 'sint', 'check', 'day', 'mat', 'fact', 'on', 'hav', 'torn', 'black', 'class', 'anyon', 'want', 'cook', 'heat', 'bedroom', 'sunburn', 'start', 'peel', 'would', 'going', 'retak', 'softbal', 'photo', 'becaus', 'patrick', 'studio', 'piec', 'shit', 'back', 'her', 'chor', 'som', 'friday', 'hasn', 'ship', 'ov', 'ther', 'until', 'least', 'cal', 'hav', 'lin', 'foc', 'ov', 'tak', 'glass', 'read', 'clos', 'adjust', 'mat', 'onlin', 'shop', 'zzzzzzzzzzzzzzz', 'bor', 'day', 'sum', 'holiday', 'left', 'they', 'going', 'slow', 'when', 'wil', 'school', 'her', 'ahhhh', 'watch', 'video', 'phon', 'consid', 'myself', 'est', 'ag', 'sing', 'girl', 'tal', 'yeah', 'good', 'complain', 'about', 'wok', 'cle', 'aunt', 'emma', 'walmart', 'commiss', 'tim', 'then', 'work', 'with', 'seem', 'hav', 'misplac', 'friend', 'with', 'drink', 'play', 'gam', 'help', 'being', 'bor', 'nerv', 'think', 'sur', 'quem', 'katy', 'paner', 'lunch', 'byyy', 'myself', 'nan', 'want', 'fak', 'http', 'twurl', 'goljwp', 'what', 'when', 'post', 'dont', 'worry', 'dont', 'sorry', 'dont', 'think', 'cry', 'fak', 'just', 'dont', 'dont', 'think', 'fair', 'get', 'anoth', 'chant', 'fidel', 'bal', 'want', 'back', 'http', 'find', 'curv', 'hav', 'thi', 'hous', 'dang', 'just', 'drop', 'som', 'subway', 'flo', 'rul', 'pass', 'already', 'whatev', 'stupid', 'aussy', 'ev', 'arnold', 'couldn', 'sav', 'park', 'http', 'thi', 'provid', 'job', 'rac', 'ont', 'tot', 'lost', 'http', 'tinyurl', 'lhgca', 'wish', 'stock', 'would', 'turn', 'around', 'cent', 'shar', 'would', 'wil', 'som', 'knew', 'would', 'someth', 'anoth', 'lon', 'night', 'wait', 'visit', 'pass', 'post', 'tak', 'forev', 'reaaaal', 'bor', 'sooo', 'childr', 'muse', 'clos', 'fund', 'rais', 'when', 'ther', 'annoy', 'went', 'today', 'som', 'thing', 'nev', 'chang', 'they', 'hav', 'den', 'thi', 'becaus', 'fuck', 'tru', 'yo', 'link', 'work', 'speak', 'fish', 'company', 'fish', 'just', 'died', 'julio', 'mor', 'sunburn', 'http', 'twitp', 'what', 'yo', 'stand', 'marry', 'what', 'fuck', 'nata', 'stop', 'ask', 'thes', 'quest', 'today', 'soooo', 'nee', 'catch', 'thi', 'stuff', 'going', 'airport', 'hom', 'from', 'vega', 'hom', 'bor', 'plzz', 'someon', 'about', 'doing', 'someth', 'thi', 'weekend', 'noth', 'much', 'seen', 'most', 'good', 'stuff', 'think', 'soon', 'sleep', 'could', 'her', 'caus', 'bor', 'nuttin', 'sowb', 'promiss', 'styoopid', 'fly', 'thing', 'hazzunt', 'ag', 'hyd', 'sumw', 'larff', 'curs', 'wardrob', 'handl', 'drew', 'blood', 'just', 'investig', 'wheth', 'could', 'chang', 'usernam', 'ermintrud', 'someon', 'already', 'nab', 'gon', 'na', 'degr', 'her', 'thank', 'leavin', 'yo', 'swe', 'mol', 'brrrrr', 'lind', 'what', 'mean', 'yo', 'last', 'post', 'doesn', 'sound', 'good', 'lost', 'battl', 'with', 'couch', 'phon', 'been', 'blow', 'work', 'work', 'work', 'http', 'twitp', 'such', 'crappy', 'weath', 'christian', 'lacroix', 'cli', 'gon', 'bust', 'http', 'tinyurl', 'noooooth', 'tonight', 'cry', 'walk', 'rememb', 'us', 'that', 'wasn', 'nic', 'min', 'mat', 'phon', 'with', 'sooo', 'reluct', 'study', 'fin', 'right', 'hav', 'down', 'tonight', 'bret', 'get', 'difficult', 'when', 'chang', 'fin', 'tot', 'wish', 'going', 'orlando', 'long', 'until', 'ther', 'forget', 'long', 'driv', 'door', 'fin', 'put', 'veggy', 'plant', 'gard', 'aft', 'demol', 'bird', 'rabbit', 'last', 'what', 'mat', 'noth', 'much', 'just', 'chattin', 'textn', 'gosh', 'want', 'drag', 'hel', 'wil', 'with', 'warm', 'hah', 'jeal', 'hav', 'money', 'that', 'ground', 'from', 'comput', 'suck', 'mitchel', 'pant', 'fel', 'down', 'whil', 'get', 'miss', 'mayb', 'hav', 'run', 'sho', 'awwww', 'wont', 'her', 'thi', 'sum', 'friday', 'night', 'hom', 'party', 'thi', 'weekend', 'tir', 'hav', 'chil', 'minut', 'today', 'on', 'downhil', 'from', 'until', 'lab', 'omgod', 'soooo', 'tir', 'think', 'hav', 'energy', 'film', 'today', 'nee', 'hug', 'shop', 'trip', 'joshst', 'also', 'joshmobl', '#', 'primaver', 'barcelon', 'spain', 'sur', 'ruth', 'lorenzo', 'must', 'her', 'right', 'jarv', 'walk', 'stick', 'credit', 'must', 'work', 'playl', 'http', 'blip', 'awww', 'trin', 'esat', 'bien', 'bendito', 'cant', 'mak', 'feel', 'bet', 'som', 'gam', 'just', 'hav', 'wait', 'us', 'stil', 'hav', 'som', 'stuff', 'that', 'hasn', 'com', 'kind', 'bor', 'park', 'rain', 'tir', 'heck', 'wan', 'na', 'hom', 'sleep', 'cant', 'caus', 'hav', 'wash', 'til', 'daddy', 'get', 'work', 'weekend', 'cheek', 'bakery', 'just', 'clos', 'crazy', 'williamsburg', 'support', 'infinit', 'bout', 'cloth', 'dec', 'plac', 'scon', 'becaus', 'sleep', 'with', 'window', 'op', 'just', 'mean', 'nois', 'wil', 'mak', 'ear', 'got', 'ta', 'us', 'pocketwit', 'damn', 'twikin', 'thought', 'against', 'licens', 'stor', 'tak', 'away', 'from', 'expery', 'they', 'want', 'provid', 'been', 'her', 'sint', 'her', 'mor', 'hour', 'tomorrow', 'dang', 'when', 'they', 'plant', 'thos', 'thorny', 'bush', 'ther', 'ouch', 'kitty', 'hug', 'today', 'http', 'twitp', 'yeah', 'bor', 'thi', 'photo', 'when', 'stil', 'hav', 'guit', 'today', 'steam', 'miss', 'nameless', 'sit', 'friday', 'night', 'bor', 'want', 'lik', 'horatio', 'cain', 'ground', 'himself', 'from', 'get', 'mor', 'toy', 'on', 'caus', 'hav', 'off', 'room', 'plac', 'them', 'that', 'park', 'met', 'streetlight', 'wasn', 'borin', 'play', 'comput', 'becaus', 'yo', 'makin', 'task', 'want', 'cream', 'expend', 'wel', 'hop', 'hav', 'much', 'mor', 'hav', 'comput', 'going', 'vist', 'stil', 'show', 'just', 'comput', 'craigsl', 'sam', 'cas', 'monit', 'speak', 'ov', 'year', 'plu', 'going', 'clash', 'with', 'ug', 'betty', 'when', 'channel', 'show', 'season', 'next', 'mon', 'wel', 'grrr', 'what', 'confus', 'about', 'definit', 'speak', 'soon', 'besty', 'on', 'ther', 'twitp', 'http', 'found', 'thing', 'look', 'text', 'twit', 'sometim', 'receiv', 'phon', 'happy', 'yeeeah', 'lmao', 'dent', 'ar', 'nic', 'espesh', 'aft', 'they', 'decid', 'yo', 'goody', 'bag', 'with', 'stick', 'awesom', 'toothpast', 'try', 'find', 'driv', 'microsoft', 'lifecam', 'webcam', 'find', 'anywh', 'anyon', 'hav', 'link', 'tatiiii', 'awww', 'that', 'suck', 'mayb', 'youtub', 'somewh', 'lady', 'lady', 'mov', 'couch', 'they', 'direct', 'wher', 'couch', 'chang', 'plan', 'work', 'insid', 'tonight', 'that', 'crap', 'min', 'bef', 'mark', 'clos', 'cost', 'grand', 'upload', 'pict', 'everyth', 'hav', 'book', 'that', 'pract', 'expery', 'poss', 'frown', 'whil', 'eat', 'frosty', 'noth', 'look', 'lik', 'cloudy', 'again', 'outsid', 'hav', 'noth', 'tonight', 'friday', 'yo', 'boredom', 'stuck', 'head', 'midnight', 'cream', 'weath', 'damn', 'bor', 'friday', 'ev', 'what', 'what', 'hav', 'ide', 'think', 'hav', 'fev', 'hear', 'tim', 'ear', 'than', 'just', 'mean', 'dad', 'week', 'wil', 'hav', 'ful', 'day', 'bordom', 'leav', 'work', 'try', 'decid', 'return', 'sunday', 'afternoon', 'monday', 'meet', 'noon', 'tim', 'deadlin', 'trop', 'depress', 'head', 'east', 'mrsal', 'scar', 'thi', 'welcom', 'start', 'hur', 'season', 'stil', 'look', 'mor', 'sub', 'rain', 'hid', 'nan', 'yeah', 'know', 'stupid', 'ther', 'job', 'mean', 'com', 'chino', 'gentlem', 'jack', 'pout', 'becaus', 'mommy', 'gon', 'din', 'http', 'ap', 'facebook', 'dogbook', 'profil', 'view', 'sittin', 'work', 'wait', 'carpet', 'cle', 'suppos', 'stil', 'class', 'load', 'ev', 'custom', 'assembl', 'load', 'should', 'stop', 'try', 'reach', 'just', 'fal', 'with', 'nick', 'unhook', 'twit', 'from', 'facebook', 'becaus', 'facebook', 'crony', 'wer', 'complain', 'nan', 'interview', 'book', 'gon', 'na', 'someth', 'quot', 'wait', 'hav', 'someth', 'quot', 'bor', 'movy', 'going', 'star', 'hello', 'kitty', 'fac', 'lucky', 'bitch', 'stuck', 'work', 'miss', 'mcfox', 'hom', 'alon', 'doing', 'look', 'chok', 'thi', 'dick', 'talk', 'twit', 'stop', 'being', 'dick', 'chang', 'background', 'im', 'imagin', 'shiny', 'ring', 'background', 'burn', 'imovy', 'ov', 'dvds', 'becaus', 'comput', 'get', 'replac', 'thumb', 'from', 'play', 'virtu', 'ten', 'much', 'weekend', 'her', 'knox', 'short', 'definit', 'must', 'into', 'gard', 'neglect', 'trad', 'quot', 'sush', 'quot', 'fail', 'bor', 'mind', 'legend', 'inot', 'day', 'text', 'mess', 'thi', 'mon', 'dear', 'rain', 'suck', 'got', 'ta', 'chang', 'plan', 'tonight', 'mon', 'her', 'til', 'milkshak', 'unsettl', 'stomach', 'try', 'sleep', 'blar', 'real', 'loud', 'sit', 'room', 'excus', 'gomez', 'said', 'could', 'leav', 'tri', 'chang', 'twit', 'hat', 'doct', 'awesom', 'oth', 'than', 'that', 'just', 'med', 'assist', 'heyheyheyheyehyeyyyyyyyyyyyyyyyy', 'tokio', 'hotel', 'tshirts', 'friad', 'sham', 'nos', 'chap', 'yuck', 'just', 'read', 'onlin', 'that', 'symptom', 'sleep', 'much', 'headach', 'throughout', 'hav', 'headach', 'start', 'annoy', 'with', 'socialscop', 'nee', 'upd', 'bor', 'homework', 'don', 'mast', 'program', 'friday', 'nit', 'nutin', 'suck', 'know', 'feel', 'sorry', 'know', 'movy', 'good', 'goddamn', 'bloody', 'stress', 'shit', 'send', 'body', 'haywir', 'nop', 'on', 'hav', 'real', 'good', 'cub', 'plac', 'hav', 'them', 'leath', 'jacket', 'uncomfort', 'thing', 'drop', 'tal', 'feel', 'cked', 'feet', 'ach', 'nee', 'beeeeedddddd', 'nom', 'adv', 'tim', 'glenn', 'bor', 'glad', 'that', 'beauty', 'macy', 'went', 'swim', 'kri', 'play', 'golf', 'whil', 'hom', 'wait', 'them', 'fuckin', 'mohawk', 'head', 'just', 'kil', 'vib', 'alway', 'nan', 'sit', 'down', 'doing', 'noth', 'aft', 'being', 'stuck', 'hous', 'day', 'int', 'doing', 'someth', 'nev', 'work', 'baby', 'mak', 'angsty', 'writ', 'aaaawww', 'would', 'lik', 'alcohol', 'bev', 'yo', 'cho', 'someon', 'sav', 'from', 'boredom', 'math', 'on', 'pleas', 'everybody', 'http', 'plurk', 'dont', 'wan', 'na', 'seny', 'ther', 'gradu', 'breakin', 'heart', 'hom', 'rum', 'around', 'topless', 'freez', 'find', 'someth', 'found', 'suspect', 'pizz', 'know', 'liv', 'middl', 'nowh', 'hous', 'spid', 'cent', 'ther', 'wasn', 'enough', 'room', 'peanut', 'but', 'beard', 'felt', 'weird', 'aft', 'body', 'wash', 'burnt', 'ey', 'they', 'okay', 'neith', 'long', 'about', 'what', 'want', 'about', 'fair', 'fair', 'whatev', 'govern', 'say', 'on', 'quot', 'think', 'that', 'on', 'try', 'sleep', 'lon', 'bor', 'mean', 'hav', 'giv', 'broth', 'thi', 'weekend', 'bor', 'friday', 'fact', 'mad', 'sur', 'that', 'cooky', 'nev', 'del', 'mak', 'som', 'madelein', 'nee', 'hav', 'bak', 'sal', 'someth', 'boredom', 'nee', 'someth', 'oth', 'than', 'bak', 'lots', 'wat', 'already', 'dark', 'bicyc', 'accid', 'just', 'across', 'street', 'from', 'hous', 'think', 'fat', 'cyc', 'died', 'near', 'sam', 'plac', 'nee', 'bik', 'lan', 'sooooo', 'hungry', 'right', 'should', 'eat', 'bef', 'thi', 'wed', 'what', 'england', 'bunny', 'eat', 'mom', 'plant', 'nat', 'start', 'shoot', 'mor', 'bunny', 'thank', 'allll', 'follow', 'friday', 'follow', 'us', 'today', 'just', 'tir', 'think', 'hat', 'didnt', 'real', 'want', 'mak', 'hard', 'lik', 'what', 'with', 'cak', 'concert', 'yeah', 'just', 'video', 'quot', 'yo', 'bas', 'belong', 'quot', 'what', 'going', 'chil', 'with', 'som', 'quit', 'bor', 'mom', 'lov', 'gam', 'that', 'show', 'suuupp', 'piss', 'cancel', 'francisco', 'traff', 'light', 'hat', 'that', 'stink', 'believ', 'tir', 'right', 'know', 'tonight', 'exhaaaaust', 'rickbak', 'follow', 'pleas', 'on', 'hav', 'wee', 'twit', 'wont', 'chang', 'anyth', 'twit', 'what', 'heck', 'wrong', 'with', 'thank', 'point', 'cruc', 'problem', 'both', 'them', 'hav', 'been', 'tak', 'car', 'alway', 'writ', 'holy', 'word', 'capit', 'dud', 'allah', 'haf', 'though', 'coff', 'what', 'yo', 'favorit', 'brand', 'just', 'ord', 'as', 'just', 'sign', 'hello', 'twit', 'world', 'her', 'what', 'consult', 'goin', 'smokey', 'fact', 'elm', 'hihih', 'sorry', 'corny', 'bak', 'ruby', 'alam', 'look', 'send', 'solv', 'http', 'promot', 'itag', 'fre', 'with', 'every', 'itag', 'ther', 'gea', 'sleep', 'good', 'then', 'boss', 'would', 'read', 'exact', 'what', 'suppos', 'would', 'know', 'wher', 'with', 'project', 'damn', 'light', 'pres', 'tim', 'teach', 'som', 'chines', 'lesson', 'youtub', 'feel', 'fre', 'hav', 'look', 'youtub', 'chineselearn', 'search', 'plac', 'wher', 'migr', 'laptop', 'been', 'hand', 'ov', 'mast', 'wil', 'get', 'back', 'next', 'weekend', 'fing', 'cross', 'wil', 'know', 'tel', 'bout', 'couldnt', 'stop', 'munch', 'stock', 'run', 'buy', 'mor', 'today', 'hav', 'nic', 'daaaay', 'hav', 'hect', 'travel', 'from', 'unit', 'back', 'work', 'off', 'convers', 'http', 'twitp', 'squad', 'twilight', 'board', 'gam', 'today', 'good', 'ebay', 'wav', 'quit', 'som', 'stil', 'loung', 'around', 'thi', 'morn', 'alway', 'sam', 'cec', 'when', 'chanq', 'nee', 'mak', 'them', 'exact', 'sil', 'tre', 'gre', 'tort', 'method', 'pay', 'at', 'school', 'mor', 'distract', 'brows', 'pokernew', 'twit', 'doesn', 'hav', 'photo', 'support', 'built', 'welcom', 'websit', 'http', 'shar', 'photo', 'wouldnt', 'liv', 'studio', 'sound', 'very', 'import', 'mildur', 'tot', 'bor', 'mhhh', 'whatev', 'bye', 'just', 'thought', 'that', 'occ', 'heh', 'nic', 'down', 'ther', 'hmmm', 'search', '#', 'twit', 'tir', 'glad', 'bank', 'holiday', 'didn', 'fail', 'thank', 'hav', 'that', 'recip', 'clear', 'very', 'busy', 'tak', 'car', 'yourself', 'sur', 'wil', 'fin', 'tak', 'know', 'cow', 'fail', 'when', 'mean', 'comply', 'stand', 'yourself', 'instead', 'http', 'twitp', 'jber', 'then', 'wond', 'they', 'hat', 'lat', 'that', 'stick', 'twit', 'cli', 'excel', 'that', 'alway', 'just', 'deal', 'with', 'smal', 'cliqu', 'pass', 'aggress', 'resist', 'man', 'when', 'mom', 'twit', 'their', 'tweet', 'know', 'gon', 'na', 'wor', 'morn', 'plan', 'today', 'sur', 'would', 'most', 'kick', 'vert', 'ev', 'heard', 'blackberry', 'goin', 'sleeeeep', 'next', 'best', 'thing', 'oth', 'than', 'being', 'bor', 'being', 'bor', 'being', 'abl', 'shar', 'with', 'peopl', 'twit', 'heh', 'wond', 'star', 'war', 'trend', 'top', 'four', 'with', 'also', 'lesson', 'school', 'eat', 'salad', 'then', 'anticip', 'next', 'day', 'money', 'laund', 'sel', 'busy', 'construct', 'hotel', 'tak', 'possess', 'yo', 'cle', 'money', 'doing', 'noth', 'wan', 'na', 'head', 'thi', 'morn', 'firm', 'embed', 'hampstead', 'constitu', 'then', 'chiu', 'tif', 'thang', 'cloud', 'danh', 'quot', 'also', 'bor', 'school', 'third', 'freelesson', 'freistund', 'that', 'wouldn', 'right', 'hav', 'anoth', 'on', 'fool', 'hors', 'marathon', 'about', 'ont', 'nop', 'comin', 'nit', 'gurl', 'cant', 'hear', 'echooooo', 'oooo', 'http', 'twitp', 'result', 'work', 'green', 'black', 'fing', 'iow', 'lik', 'that', 'sometim', 'get', 'frust', 'just', 'cam', 'cross', 'country', 'beat', 'dumbo', 'hah', 'yo', 'los', 'nan', 'might', 'hav', 'been', 'child', 'nev', 'thos', 'already', 'apolog', 'thankyou', 'suggest', 'fanny', 'darwin', 'palin', 'haircut', 'back', 'just', 'quart', 'going', 'sleep', 'that', 'headach', 'subsid', 'tak', 'easy', 'teddy', 'lik', 'optim', 'exam', 'real', 'mistak', 'less', 'than', 'each', 'gasto', 'nam', 'heir', 'ov', 'draft', 'ear', 'thi', 'thank', 'mak', 'breakfast', 'know', 'what', 'test', 'exam', 'subject', 'exceiv', 'engl', 'damn', 'dav', 'intern', 'alarm', 'clock', 'wak', 'hav', 'anoth', 'hour', 'bef', 'extern', 'alarm', 'goe', 'wid', 'awak', 'studio', 'ghibl', 'thi', 'year', 'ponyo', 'http', 'whar', 'alway', 'seem', 'perfect', 'wait', 'til', 'august', 'screw', 'review', 'thought', 'wolverin', 'awesom', 'enough', 'domin', 'monagh', 'lik', 'expect', 'band', 'releas', 'sometim', 'next', 'week', 'just', 'mad', 'perfect', 'fri', 'cur', 'work', 'collab', 'with', 'alyn', 'cart', 'cal', 'lost', 'insid', 'which', 'very', 'excit', 'about', 'xbox', 'back', 'hav', 'real', 'sor', 'kne', 'cant', 'walk', 'monday', 'hard', 'hop', 'hav', 'gre', 'hav', 'opportun', 'som', 'point', 'into', 'und', 'commun', 'myself', 'mod', 'niandr', 'told', 'ther', 'thought', 'might', 'interest', 'http', 'tweetphoto', 'view', 'yo', 'photo', 'look', 'sam', 'noid', 'dont', 'real', 'mean', 'anyth', 'anym', 'when', 'good', 'pop', 'every', 'friday', 'someth', 'that', 'said', 'viv', 'diff', 'on', 'oth', 'walk', 'from', 'teignmou', 'dawl', 'http', 'twitp', 'congrat', 'daddy', 'school', 'back', 'lat', 'send', 'mess', 'ask', 'blog', 'liv', 'work', 'link', 'develop', 'websit', 'tak', 'from', 'paty', 'wait', 'hom', 'today', 'sooo', 'bor', 'school', 'sleep', 'tim', 'want', 'spoil', 'end', 'them', 'zwart', 'maillot', 'thank', 'help', 'hop', 'they', 'respond', 'soon', 'lat', 'then', 'thank', 'good', 'cho', 'retweet', 'pantech', 'matrix', 'http', 'tinyurl', 'easy', 'ent', 'supermodel', 'stil', 'mcdonalds', 'baby', 'that', 'just', 'cul', 'hand', 'follow', 'spam', 'on', 'with', 'nsfw', 'link', 'that', 'click', 'mad', 'though', 'yeah', 'real', 'annoy', 'next', 'as', 'that', 'song', 'alway', 'find', 'back', 'hom', 'hannah', 'montan', 'welcom', 'mak', 'twit', 'account', 'mak', 'cupp', 'coff', 'cant', 'thank', 'enough', 'nitin', 'between', 'thank', 'lik', 'http', 'twitp', 'jewc', 'follow', 'keep', 'upd', 'latest', 'dant', 'scen', 'ev', 'period', 'studyhal', 'rememb', 'ipod', 'mus', 'tim', 'latest', 'obess', 'work', 'mak', 'banan', 'bread', 'nan', 'list', 'stol', 'sheep', 'record', 'dougy', 'yo', 'from', 'thailand', 'film', 'song', 'much', 'although', 'think', 'anyon', 'could', 'meas', 'standard', 'jason', 'donov', 'superm', 'cours', 'dont', 'gon', 'na', 'with', 'mil', 'tim', 'wak', 'kid', 'lot', 'task', 'complet', 'today', 'first', 'weclom', 'memb', 'canadamigo', 'soc', 'network', 'sit', 'canadamigo', 'coff', 'nan', 'ready', 'half', 'hour', 'didn', 'not', 'ov', 'nee', 'coff', 'ready', 'start', 'thi', 'attract', 'som', 'assembl', 'act', 'requir', 'hav', 'ask', 'ent', 'med', 'school', 'stil', 'nee', 'fil', 'apply', 'just', 'spurt', 'fant', 'mou', 'laugh', 'that', 'morn', 'monday', 'real', 'mean', 'start', 'quot', 'follow', 'quot', 'morn', 'list', 'mus', 'kostet', 'fisch', 'mathsteach', 'choos', 'wrong', 'that', 'wrong', 'gramm', 'real', 'fact', 'meant', 'stuff', 'into', 'format', 'what', 'ord', 'ear', 'morn', 'okay', 'say', 'byeby', 'wil', 'pspplurk', 'lat', 'http', 'plurk', 'then', 'stop', 'stay', 'night', 'talk', 'lat', 'john', 'http', 'tinyurl', 'demain', 'lant', 'chinatown', 'mercred', 'window', 'vist', 'thought', 'would', 'fab', 'hav', 'som', 'bot', 'sid', 'doe', 'thi', 'hap', 'every', 'monday', 'diss', 'wer', 'octop', 'that', 'howev', 'redeem', 'himself', 'rescu', 'from', 'wer', 'spid', 'wee', 'internet', 'back', 'her', 'hom', 'salt', 'vineg', 'knew', 'that', 'attend', 'innov', 'semin', 'picn', 'dasit', 'thank', 'mess', 'hah', 'camer', 'lens', 'ready', 'lin', 'glob', 'green', 'just', 'chees', 'on', 'fath', 'say', 'chees', 'ming', 'theo', 'into', 'someon', 'know', 'thi', 'weekend', 'good', 'morn', 'rock', 'star', 'nurs', 'good', 'morn', 'break', 'digit', 'just', 'rar', 'us', 'post', 'tweet', 'with', 'contd', 'writ', 'most', 'peopl', 'dont', 'link', 'sit', 'work', 'then', 'laz', 'hom', 'sunny', 'bank', 'holiday', 'couldnt', 'com', 'southend', 'couldnt', 'ticket', 'hav', 'com', 'when', 'solo', 'tour', 'excit', 'look', 'forward', 'pic', 'facebook', 'helloo', 'thank', 'tim', 'som', 'mor', 'rfid', 'object', 'send', 'mess', 'twit', 'everytim', 'them', 'mor', 'coff', 'cup', 'arman', 'cod', 'panton', 'chevy', 'chrysler', 'soon', 'own', 'it', 'they', 'commun', 'when', 'hav', 'mak', 'decid', 'lik', 'that', 'alway', 'choos', 'black', 'riot', 'mayb', 'going', 'apart', 'shop', 'with', 'ashley', 'thank', 'wel', 'impress', 'much', 'bet', 'than', 'last', 'must', 'cle', 'liv', 'glut', 'fre', 'lactos', 'fre', 'food', 'com', 'hom', 'then', 'bor', 'her', 'going', 'som', 'coff', 'ess', 'wolverin', 'conh', 'http', 'tinyurl', 'noiv', 'gooooood', 'morn', 'lov', 'sery', 'guy', 'want', 'kick', 'monday', 'with', '#', 'starwarswithaddedp', 'spam', 'real', 'app', 'ashland', 'nev', 'going', 'tel', 'scholarship', 'stil', 'stil', 'couch', 'lik', 'libr', 'equ', 'quot', 'clock', 'somewh', 'quot', 'someon', 'els', 'desk', 'somewh', 'that', 'exact', 'what', 'thi', 'mam', 'doing', 'noth', 'just', 'join', 'cal', 'debby', 'ryan', 'lay', 'boredddd', 'look', 'through', 'cookbook', 'recip', 'nan', 'happy', 'birthday', 'stil', 'hav', 'been', 'club', 'lot', 'bar', 'though', 'think', 'miss', 'much', 'just', 'wrong', 'com', 'brag', 'with', 'ful', 'bel', 'espec', 'with', 'vampir', 'temp', 'marketplac', 'wait', 'star', 'trek', 'been', 'told', 'that', 'hav', 'problem', 'with', 'stuff', 'lik', 'that', 'try', 'fig', 'what', 'tonight', 'gam', 'soc', 'ev', 'friend', 'stay', 'hom', 'play', 'drum', '#', 'pen', 'steigy', 'polit', 'obama', 'watch', 'hockey', 'sleep', 'katy', 'perry', 'song', 'soundtrack', 'wind', 'near', 'blew', 'outfield', 'tomorrow', 'fin', 'competit', 'maxin', 'relaxin', 'almost', 'tim', 'left', 'som', 'mess', 'alyssabruno', 'cal', 'they', 'want', 'their', 'say', 'back', 'liv', '#', 'pen', 'hah', 'check', 'quick', 'check', 'back', 'wil', 'around', 'tomorrow', 'nee', 'someth', 'plan', 'success', 'mean', 'thi', 'with', 'disrespect', 'fuck', 'that', 'nan', 'sur', 'follow', 'thank', 'subscrib', 'youtub', 'cowork', 'friend', 'told', 'man', 'sent', 'hom', 'afraid', 'troubl', 'send', 'hom', 'hah', 'dumb', 'bitch', 'soe', 'might', 'driv', 'through', 'town', 'colorado', 'mayb', 'then', 'just', 'doin', 'som', 'jammin', 'bor', 'nee', 'mor', 'peopl', 'rsmv', 'jagex', 'doesn', 'rsmv', 'unless', 'first', 'word', 'sent', 'get', 'ready', 'comedy', 'club', 'list', 'som', 'ich', 'skyp', 'right', 'nee', 'outfit', 'crit', 'very', 'welcom', 'mor', 'interest', 'watch', 'ciar', 'than', 'justin', 'timberfak', 'relax', 'doing', 'rainbow', 'unicorn', 'film', 'then', 'hour', 'back', 'from', 'very', 'long', 'gunn', 'crash', 'tomorrow', 'moth', 'edit', 'photo', 'from', 'today', 'hangin', 'with', 'aur', 'good', 'miss', 'simpat', 'votem', 'would', 'think', 'pre', 'would', 'afraid', 'decid', 'that', 'wolf', 'fut', 'star', 'trek', 'logo', 'gam', 'would', 'much', 'cool', 'than', 'chewy', 'star', 'war', 'nan', 'send', 'coldplay', 'song', 'clock', 'viv', 'vid', 'about', 'crazy', 'pretty', 'tir', 'going', 'movy', 'decid', 'against', 'poop', 'when', 'chant', 'post', 'video', 'tinkerbel', 'say', 'peekaboo', 'kind', 'wan', 'hear', 'const', 'look', 'clockkk', 'com', 'good', 'morn', 'just', 'play', 'volleybal', 'yeah', 'suck', 'every', 'suck', 'stil', 'look', 'beauty', 'lik', 'heeh', 'know', 'talk', 'about', 'angel', 'cam', 'harrass', 'tri', 'break', 'hous', 'burg', 'del', 'serendip', 'missy', 'higgin', 'kat', 'voegel', 'grac', 'pot', 'nocturn', 'with', 'the', 'lady', 'get', 'retard', 'just', 'send', 'twit', 'from', 'club', 'twit', 'awwww', 'look', 'thi', 'motherfuck', 'pot', '#', 'nerdprom', 'http', 'twitp', 'mishaaaaaaa', 'going', 'hung', 'aaron', 'robin', 'then', 'took', 'aaron', 'sunny', 'shout', 'feel', 'sick', 'nee', 'person', 'assist', 'keep', 'fast', 'food', 'away', 'from', 'tak', 'that', 'sound', 'right', 'bet', 'grin', 'going', 'soon', 'end', 'show', 'with', 'disturb', 'just', 'stop', 'holl', 'sunday', 'night', 'tinh', 'good', 'night', 'peep', 'giv', 'yo', 'greatest', 'lov', 'hav', 'nan', 'hav', 'monit', 'could', 'sur', 'abl', 'hook', 'nee', 'mak', 'sur', 'hav', 'room', 'sur', 'hop', 'aft', 'midnight', 'hear', 'show', 'cal', 'techn', 'twic', 'sint', 'morn', 'very', 'quot', 'green', 'quot', 'nan', 'cours', 'watch', 'twilight', 'eat', 'potato', 'salad', 'littl', 'twit', 'ment', 'again', 'sur', 'upload', 'could', 'wait', 'until', 'hom', 'about', 'enjoy', 'party', 'when', 'hav', 'right', 'church', 'going', 'watch', 'star', 'trek', 'wolverin', 'going', 'watch', 'both', 'right', 'whol', 'ear', 'fest', 'mayb', 'peopl', 'would', 'start', 'look', 'lik', 'quot', 'wher', 'waldo', 'quot', 'quot', 'wher', 'quot', 'nan', 'yeah', 'didn', 'that', 'minut', 'welcom', 'know', 'keep', 'wild', 'els', 'abl', 'situ', 'mandriv', 'yo', 'lif', 'find', 'chica', 'search', 'follow', 'combin', 'nic', 'lik', 'window', 'bet', 'than', 'vist', 'vist', 'reborn', 'just', 'wok', 'from', 'hood', 'claim', 'that', 'them', 'song', 'which', 'aint', 'youtub', 'that', 'post', 'yesterday', 'want', 'increas', 'karm', 'http', 'plurk', 'suiv', 'http', 'miss', 'hudg', 'ness', 'maxim', 'magazin', 'exact', 'fre', 'unlimit', 'rington', 'http', 'tinyurl', 'freeringr', 'on', 'awesom', 'iphon', 'fin', 'tak', 'show', 'aft', 'much', 'distract', 'from', 'twit', 'bubbl', 'wrap', 'read', 'drink', 'smoothy', 'told', 'just', 'nashvil', 'ihop', 'staff', 'dougy', 'with', 'mayn', 'what', 'fuck', 'night', 'nan', 'thank', 'yo', 'follow', 'just', 'thing', 'join', 'with', 'what', 'interest', 'ontd', 'going', 'southland', 'fan', 'from', 'outsid', 'wish', 'they', 'could', 'vot', 'adam', 'text', 'hav', 'wacky', 'sery', 'link', 'record', 'autom', 'good', 'doing', 'captain', 'jack', 'back', 'trang', 'http', 'kmxhk', 'recommend', 'clearw', 'pretty', 'sur', 'hero', 'stat', 'rock', 'sock', 'mccain', 'happy', 'moth', 'mommy', 'grandm', 'hah', 'watch', 'jackass', 'movy', 'http', 'twitp', 'wlgi', 'norm', 'hour', 'giv', 'interest', 'twit', 'friend', 'glimps', 'into', 'top', 'near', 'dear', 'want', 'ooz', 'whil', 'speak', 'eith', 'hav', 'lam', 'jok', 'about', 'wip', 'soc', 'med', 'sho', 'yellow', 'http', 'blip', 'look', 'forward', 'tonight', 'din', 'dat', 'with', 'gym', 'thi', 'afternoon', 'start', 'quot', 'bawa', 'kanin', 'quot', 'less', 'ric', 'mov', 'celib', 'pleas', 'review', 'sunehr', 'plac', 'http', 'tinyurl', 'nan', 'peopl', 'plu', 'thought', 'contribut', 'syk', 'trend', 'top', 'been', 'ther', 'don', 'that', 'with', 'laundry', 'know', 'suck', 'nic', 'them', 'just', 'thank', 'soooooo', 'tru', 'dar', 'someth', 'lik', 'that', 'sam', 'nan', 'about', 'leav', 'hah', 'know', 'ear', 'then', 'bib', 'http', 'twitp', 'lucky', 'jeal', 'ev', 'though', 'lik', 'that', 'much', 'wel', 'don', 'yal', 'mor', 'fav', 'follow', 'watch', 'littl', 'bear', 'perfect', 'tot', 'bor', 'sleep', 'goodnight', 'beezy', 'fin', 'tim', 'hookah', 'twiit', 'lov', 'seem', 'cool', 'check', 'check', 'morn', 'shat', 'couldn', 'sleep', 'last', 'night', 'sleep', 'about', 'then', 'goodnight', 'world', 'inhabit', 'right', 'quot', 'argu', 'quot', 'about', 'noth', 'thought', 'healthy', 'convers', 'pantry', 'real', 'yo', 'ear', 'becaus', 'join', 'cult', 'both', 'stil', 'would', 'hav', 'look', 'fac', 'just', 'cas', 'ub', 'bor', 'aft', 'blu', 'wil', 'hav', 'show', 'then', 'watch', 'hous', 'numb', 'then', 'bon', 'doubl', 'about', 'hour', 'work', 'sunday', 'wil', 'find', 'tim', 'hour', 'lunchbreak', 'though', 'yeah', 'stay', 'merc', 'welcom', 'wil', 'http', 'plurk', 'yeah', 'work', 'day', 'watch', 'season', 'should', 'sleep', 'mor', 'woot', 'goodnight', 'world', 'goodnight', 'eddpl', 'hol', 'volunt', 'first', 'hop', 'hav', 'weekend', 'xoxox', 'hop', 'head', 'com', 'cloud', 'lov', 'meadowbank', 'shop', 'cent', 'guess', 'sleepin', 'ov', 'quot', 'shak', 'fuck', 'head', 'quot', 'quot', 'much', 'fuck', 'homework', 'quot', 'accord', 'urb', 'dict', 'gre', 'night', 'last', 'night', 'happy', 'moth', 'every', 'moth', 'world', 'febru', 'going', 'sleep', 'good', 'night', 'everyon', 'lik', 'bin', 'cod', 'und', 'yo', 'nam', 'say', 'zirconcod', 'wel', 'look', 'very', 'nic', 'bet', 'than', 'bef', 'prom', 'http', 'twitp', 'thi', 'stat', 'upd', 'twit', 'from', 'timestamp', 'cest', 'hav', 'hair', 'dyed', 'today', 'bor', 'stil', 'tir', 'from', 'friday', 'swear', 'down', 'bossm', 'com', 'overh', 'then', 'dutch', 'might', 'hour', '#', 'bringtaraback', 'upload', 'photo', 'facebook', 'friendst', 'myspac', 'lat', 'good', 'morn', 'thank', 'thought', 'think', 'that', 'then', 'friend', 'her', 'fal', 'asleep', 'nee', 'count', 'sheep', 'loc', 'http', 'her', 'nam', 'also', 'nain', 'thank', 'see', 'thi', 'moro', 'arvo', 'aft', 'ask', 'with', 'twit', 'access', 'party', 'nev', 'stop', 'ev', 'quot', 'nit', 'quot', 'alway', 'daylight', 'quot', 'somewh', 'quot', 'around', 'world', 'easy', 'mask', 'hack', 'ev', 'though', 'camera', 'record', 'jackshit', 'yogulicy', 'anoth', 'sour', 'sal', 'competit', 'just', 'with', 'gam', 'just', 'want', 'clar', 'going', 'nee', 'check', 'stor', 'hop', 'find', 'thing', 'that', 'look', 'want', 'that', 'say', 'bilko', 'hop', 'lik', 'pamp', 'gift', 'sent', 'happy', 'birthday', 'noth', 'thi', 'tim', 'just', 'hom', 'effort', 'though', 'http', 'back', 'her', 'busy', 'wirt', 'star', 'lov', 'almo', 'pag', 'listenint', 'yo', 'cod', 'going', 'sooo', 'tir', 'hav', 'headach', 'self', 'inflict', 'cours', 'good', 'tim', 'though', 'whil', 'vac', 'hav', 'gold', 'tim', 'spam', 'googl', 'redirect', 'http', 'kwzh', 'that', 'would', 'lov', 'ala', 'cub', 'would', 'gracy', 'enough', 'stop', 'wreck', 'hous', 'whil', 'wer', 'soak', 'bon', 'lee', 'hav', 'from', 'blu', 'pleas', 'morn', 'don', 'school', 'work', 'doing', 'noth', 'what', 'about', 'twit', 'try', 'mak', 'thi', 'sunday', 'last', 'hour', 'follow', 'someth', 'lik', 'that', 'http', 'twitp', 'wuaq', 'anoth', 'prof', 'prec', 'mor', 'follow', 'hav', 'mor', 'import', 'feel', 'http', 'twit', 'pbworks', 'hasht', 'explain', 'mor', 'right', 'show', 'littl', 'treas', 'lat', 'her', 'again', 'back', 'work', 'happy', 'moth', 'peac', 'quot', 'pant', 'quot', 'ide', 'could', 'attempt', 'world', 'wid', 'attract', 'busy', 'back', 'airlin', 'thank', 'yeah', 'fing', 'cross', 'ev', 'list', 'sus', 'green', 'policy']\n"
     ]
    }
   ],
   "source": [
    "# we now have each stemmed word and the number of occurances of the word in our training corpus (the word's commonality)\n",
    "# also we have all words in each class\n",
    "print ((class_words['empty']))"
   ]
  },
  {
   "cell_type": "code",
   "execution_count": 40,
   "metadata": {},
   "outputs": [],
   "source": [
    "def calculate_class_score(sentence, class_name, show_details=True):\n",
    "    score = 0\n",
    "    # tokenize each word in our new sentence\n",
    "    for word in nltk.word_tokenize(sentence):\n",
    "        # check to see if the stem of the word is in any of our classes\n",
    "        if stemmer.stem(word.lower()) in class_words[class_name]:\n",
    "            # treat each word with relative weight\n",
    "            score += (1 / corpus_words[stemmer.stem(word.lower())])\n",
    "\n",
    "            if show_details:\n",
    "                print (\"   match: %s (%s)\" % (stemmer.stem(word.lower()), 1 / corpus_words[stemmer.stem(word.lower())]))\n",
    "    return score"
   ]
  },
  {
   "cell_type": "code",
   "execution_count": 50,
   "metadata": {},
   "outputs": [
    {
     "name": "stdout",
     "output_type": "stream",
     "text": [
      "   match: good (0.00037064492216456633)\n",
      "   match: day (0.0009174311926605505)\n",
      "   match: for (0.0008176614881439084)\n",
      "   match: us (0.001763668430335097)\n",
      "   match: to (0.00025933609958506224)\n",
      "   match: hav (0.00017540782318891423)\n",
      "Class: anger  Score: 0.004304149956078099 \n",
      "\n",
      "   match: good (0.00037064492216456633)\n",
      "   match: day (0.0009174311926605505)\n",
      "   match: for (0.0008176614881439084)\n",
      "   match: us (0.001763668430335097)\n",
      "   match: to (0.00025933609958506224)\n",
      "   match: hav (0.00017540782318891423)\n",
      "   match: lunch (0.003676470588235294)\n",
      "Class: hate  Score: 0.007980620544313394 \n",
      "\n",
      "   match: good (0.00037064492216456633)\n",
      "   match: day (0.0009174311926605505)\n",
      "   match: for (0.0008176614881439084)\n",
      "   match: us (0.001763668430335097)\n",
      "   match: to (0.00025933609958506224)\n",
      "   match: hav (0.00017540782318891423)\n",
      "   match: lunch (0.003676470588235294)\n",
      "Class: happiness  Score: 0.007980620544313394 \n",
      "\n",
      "   match: good (0.00037064492216456633)\n",
      "   match: day (0.0009174311926605505)\n",
      "   match: for (0.0008176614881439084)\n",
      "   match: us (0.001763668430335097)\n",
      "   match: to (0.00025933609958506224)\n",
      "   match: hav (0.00017540782318891423)\n",
      "   match: lunch (0.003676470588235294)\n",
      "Class: relief  Score: 0.007980620544313394 \n",
      "\n",
      "   match: good (0.00037064492216456633)\n",
      "   match: day (0.0009174311926605505)\n",
      "   match: for (0.0008176614881439084)\n",
      "   match: us (0.001763668430335097)\n",
      "   match: to (0.00025933609958506224)\n",
      "   match: hav (0.00017540782318891423)\n",
      "   match: lunch (0.003676470588235294)\n",
      "Class: fun  Score: 0.007980620544313394 \n",
      "\n",
      "   match: good (0.00037064492216456633)\n",
      "   match: day (0.0009174311926605505)\n",
      "   match: for (0.0008176614881439084)\n",
      "   match: us (0.001763668430335097)\n",
      "   match: to (0.00025933609958506224)\n",
      "   match: hav (0.00017540782318891423)\n",
      "   match: lunch (0.003676470588235294)\n",
      "Class: worry  Score: 0.007980620544313394 \n",
      "\n",
      "   match: good (0.00037064492216456633)\n",
      "   match: day (0.0009174311926605505)\n",
      "   match: for (0.0008176614881439084)\n",
      "   match: us (0.001763668430335097)\n",
      "   match: to (0.00025933609958506224)\n",
      "   match: hav (0.00017540782318891423)\n",
      "   match: lunch (0.003676470588235294)\n",
      "Class: boredom  Score: 0.007980620544313394 \n",
      "\n",
      "   match: good (0.00037064492216456633)\n",
      "   match: day (0.0009174311926605505)\n",
      "   match: for (0.0008176614881439084)\n",
      "   match: us (0.001763668430335097)\n",
      "   match: to (0.00025933609958506224)\n",
      "   match: hav (0.00017540782318891423)\n",
      "   match: lunch (0.003676470588235294)\n",
      "Class: sadness  Score: 0.007980620544313394 \n",
      "\n",
      "   match: good (0.00037064492216456633)\n",
      "   match: day (0.0009174311926605505)\n",
      "   match: for (0.0008176614881439084)\n",
      "   match: us (0.001763668430335097)\n",
      "   match: to (0.00025933609958506224)\n",
      "   match: hav (0.00017540782318891423)\n",
      "   match: lunch (0.003676470588235294)\n",
      "Class: surprise  Score: 0.007980620544313394 \n",
      "\n",
      "   match: good (0.00037064492216456633)\n",
      "   match: day (0.0009174311926605505)\n",
      "   match: for (0.0008176614881439084)\n",
      "   match: us (0.001763668430335097)\n",
      "   match: to (0.00025933609958506224)\n",
      "   match: hav (0.00017540782318891423)\n",
      "   match: lunch (0.003676470588235294)\n",
      "Class: empty  Score: 0.007980620544313394 \n",
      "\n",
      "   match: good (0.00037064492216456633)\n",
      "   match: day (0.0009174311926605505)\n",
      "   match: for (0.0008176614881439084)\n",
      "   match: us (0.001763668430335097)\n",
      "   match: to (0.00025933609958506224)\n",
      "   match: hav (0.00017540782318891423)\n",
      "   match: lunch (0.003676470588235294)\n",
      "Class: enthusiasm  Score: 0.007980620544313394 \n",
      "\n",
      "   match: good (0.00037064492216456633)\n",
      "   match: day (0.0009174311926605505)\n",
      "   match: for (0.0008176614881439084)\n",
      "   match: us (0.001763668430335097)\n",
      "   match: to (0.00025933609958506224)\n",
      "   match: hav (0.00017540782318891423)\n",
      "   match: lunch (0.003676470588235294)\n",
      "Class: neutral  Score: 0.007980620544313394 \n",
      "\n",
      "   match: good (0.00037064492216456633)\n",
      "   match: day (0.0009174311926605505)\n",
      "   match: for (0.0008176614881439084)\n",
      "   match: us (0.001763668430335097)\n",
      "   match: to (0.00025933609958506224)\n",
      "   match: hav (0.00017540782318891423)\n",
      "   match: lunch (0.003676470588235294)\n",
      "Class: love  Score: 0.007980620544313394 \n",
      "\n"
     ]
    }
   ],
   "source": [
    "sentence = \"good day for us to have lunch?\"\n",
    "\n",
    "# now we can find the class with the highest score\n",
    "for c in class_words.keys():\n",
    "    print (\"Class: %s  Score: %s \\n\" % (c, calculate_class_score(sentence, c)))"
   ]
  },
  {
   "cell_type": "code",
   "execution_count": 44,
   "metadata": {},
   "outputs": [],
   "source": [
    "def classify(sentence):\n",
    "    high_class = None\n",
    "    high_score = 0\n",
    "    # loop through our classes\n",
    "    for c in class_words.keys():\n",
    "        # calculate score of sentence for each class\n",
    "        score = calculate_class_score(sentence, c, show_details=False)\n",
    "        # keep track of highest score\n",
    "        if score > high_score:\n",
    "            high_class = c\n",
    "            high_score = score\n",
    "\n",
    "    return high_class, high_score"
   ]
  },
  {
   "cell_type": "code",
   "execution_count": 55,
   "metadata": {},
   "outputs": [
    {
     "data": {
      "text/plain": [
       "('worry', 0.48897636308974246)"
      ]
     },
     "execution_count": 55,
     "metadata": {},
     "output_type": "execute_result"
    }
   ],
   "source": [
    "classify(\"i know  i was listenin to bad habit earlier and i started freakin at his part =[,know listenin habit earlier started freakin part\")"
   ]
  }
 ],
 "metadata": {
  "kernelspec": {
   "display_name": "Python 3",
   "language": "python",
   "name": "python3"
  },
  "language_info": {
   "codemirror_mode": {
    "name": "ipython",
    "version": 3
   },
   "file_extension": ".py",
   "mimetype": "text/x-python",
   "name": "python",
   "nbconvert_exporter": "python",
   "pygments_lexer": "ipython3",
   "version": "3.7.6"
  }
 },
 "nbformat": 4,
 "nbformat_minor": 4
}